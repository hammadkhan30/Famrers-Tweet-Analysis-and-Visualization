{
  "nbformat": 4,
  "nbformat_minor": 0,
  "metadata": {
    "colab": {
      "name": "Farmers tweets.ipynb",
      "provenance": [],
      "collapsed_sections": [],
      "authorship_tag": "ABX9TyNfk3fq6oiq654Q2t918SNV",
      "include_colab_link": true
    },
    "kernelspec": {
      "name": "python3",
      "display_name": "Python 3"
    }
  },
  "cells": [
    {
      "cell_type": "markdown",
      "metadata": {
        "id": "view-in-github",
        "colab_type": "text"
      },
      "source": [
        "<a href=\"https://colab.research.google.com/github/hammadkhan30/Famrers-Tweet-Analysis-and-Visualization/blob/main/Farmers_tweets.ipynb\" target=\"_parent\"><img src=\"https://colab.research.google.com/assets/colab-badge.svg\" alt=\"Open In Colab\"/></a>"
      ]
    },
    {
      "cell_type": "code",
      "metadata": {
        "id": "Eu7uwV9z8ZP0"
      },
      "source": [
        "import os\n",
        "import pandas as pd\n",
        "import matplotlib.pyplot as plt\n",
        "import seaborn as sns\n",
        "import itertools\n",
        "import collections\n",
        "\n",
        "import tweepy as tw\n",
        "import nltk\n",
        "from nltk.corpus import stopwords\n",
        "import re\n",
        "import networkx\n",
        "\n",
        "import warnings\n",
        "warnings.filterwarnings(\"ignore\")\n",
        "\n",
        "sns.set(font_scale=1.5)\n",
        "sns.set_style(\"whitegrid\")"
      ],
      "execution_count": null,
      "outputs": []
    },
    {
      "cell_type": "code",
      "metadata": {
        "id": "ZHza4KuS8fou"
      },
      "source": [
        "consumer_key= 'OmMrEQKJ2sLmFerZfdCx3AdoE'\n",
        "consumer_secret= 'q4sAkEbACtNfwkyPwBUUIJAuYhsYGeBmJ8uQ8CORRMsWIJlhMx'\n",
        "access_token= '217053771-fwY0H9fvsC8nChs8IT1MjApYSltu55QmvqlmrRDF'\n",
        "access_token_secret= 'nHHr5FzeOd10ZLU6RLFLGYzoz84bSqQoasnpxJgsOjbfM'"
      ],
      "execution_count": null,
      "outputs": []
    },
    {
      "cell_type": "code",
      "metadata": {
        "id": "UEz-vyda83rJ"
      },
      "source": [
        "auth = tw.OAuthHandler(consumer_key, consumer_secret)\n",
        "auth.set_access_token(access_token, access_token_secret)\n",
        "api = tw.API(auth, wait_on_rate_limit=True)"
      ],
      "execution_count": null,
      "outputs": []
    },
    {
      "cell_type": "code",
      "metadata": {
        "id": "LkdN-gFh86Nn",
        "colab": {
          "base_uri": "https://localhost:8080/",
          "height": 102
        },
        "outputId": "5e9e8f50-4fb3-4c54-d297-9f97784ca4c0"
      },
      "source": [
        "search_term = \"#farmers+bill -filter:retweets\"\n",
        "tweets = tw.Cursor(api.search,q=search_term,lang=\"en\").items(1000)\n",
        "all_tweets = [tweet.text for tweet in tweets]\n",
        "all_tweets[:5]"
      ],
      "execution_count": null,
      "outputs": [
        {
          "output_type": "execute_result",
          "data": {
            "text/plain": [
              "['कृषि सुधार अध्यादेश तालाब में से छोटी मछलियां हटाकर बड़े मगरमच्छ छोड़ना है @PMOIndia please understand these small… https://t.co/5DsOHcXOiz',\n",
              " 'Pakistani puppet Gurpatwant Singh Pannu again lured money to Sikhs under the guise of Anti-farmer Bill Protest. Thi… https://t.co/N9fNc4Y2ZZ',\n",
              " '#save #farmers #protest against black bill .. i support #FarmersProtest',\n",
              " 'Good news #SFJ Releases $1Million For \\n#Punjab #Haryana #Farmers to\\nHelp them in their fight against the farmer bil… https://t.co/2pGpqrl0DY',\n",
              " \"@Republic_Bharat Did you know what's happening in north india due to 3 Bill's?? We can say that #farmers are on… https://t.co/VQlrLRFrjY\"]"
            ]
          },
          "metadata": {
            "tags": []
          },
          "execution_count": 4
        }
      ]
    },
    {
      "cell_type": "code",
      "metadata": {
        "id": "BKoNBnm-9Itc"
      },
      "source": [
        "def remove_url(txt):\n",
        "    return \" \".join(re.sub(\"([^0-9A-Za-z \\t])|(\\w+:\\/\\/\\S+)\", \"\", txt).split())"
      ],
      "execution_count": null,
      "outputs": []
    },
    {
      "cell_type": "code",
      "metadata": {
        "id": "x1nkzmuI9ReO",
        "colab": {
          "base_uri": "https://localhost:8080/",
          "height": 102
        },
        "outputId": "4e65ffbf-dbd9-4ff8-df8c-5a1414e7eb37"
      },
      "source": [
        "all_tweets_no_urls = [remove_url(tweet) for tweet in all_tweets]\n",
        "all_tweets_no_urls[:5]"
      ],
      "execution_count": null,
      "outputs": [
        {
          "output_type": "execute_result",
          "data": {
            "text/plain": [
              "['PMOIndia please understand these small',\n",
              " 'Pakistani puppet Gurpatwant Singh Pannu again lured money to Sikhs under the guise of Antifarmer Bill Protest Thi',\n",
              " 'save farmers protest against black bill i support FarmersProtest',\n",
              " 'Good news SFJ Releases 1Million For Punjab Haryana Farmers toHelp them in their fight against the farmer bil',\n",
              " 'RepublicBharat Did you know whats happening in north india due to 3 Bills We can say that farmers are on']"
            ]
          },
          "metadata": {
            "tags": []
          },
          "execution_count": 6
        }
      ]
    },
    {
      "cell_type": "code",
      "metadata": {
        "id": "JroH6mMT9UBg",
        "colab": {
          "base_uri": "https://localhost:8080/",
          "height": 340
        },
        "outputId": "4b49a2f2-71d4-43ca-d702-8f4fdd03fd39"
      },
      "source": [
        "words_in_tweet = [tweet.lower().split() for tweet in all_tweets_no_urls]\n",
        "words_in_tweet[:2]"
      ],
      "execution_count": null,
      "outputs": [
        {
          "output_type": "execute_result",
          "data": {
            "text/plain": [
              "[['pmoindia', 'please', 'understand', 'these', 'small'],\n",
              " ['pakistani',\n",
              "  'puppet',\n",
              "  'gurpatwant',\n",
              "  'singh',\n",
              "  'pannu',\n",
              "  'again',\n",
              "  'lured',\n",
              "  'money',\n",
              "  'to',\n",
              "  'sikhs',\n",
              "  'under',\n",
              "  'the',\n",
              "  'guise',\n",
              "  'of',\n",
              "  'antifarmer',\n",
              "  'bill',\n",
              "  'protest',\n",
              "  'thi']]"
            ]
          },
          "metadata": {
            "tags": []
          },
          "execution_count": 7
        }
      ]
    },
    {
      "cell_type": "code",
      "metadata": {
        "id": "I_uOjXHg9gt3",
        "colab": {
          "base_uri": "https://localhost:8080/",
          "height": 272
        },
        "outputId": "4af975b3-bb6e-4310-bff5-a2cbe35fc039"
      },
      "source": [
        "all_words_no_urls = list(itertools.chain(*words_in_tweet))\n",
        "counts_no_urls = collections.Counter(all_words_no_urls)\n",
        "counts_no_urls.most_common(15)"
      ],
      "execution_count": null,
      "outputs": [
        {
          "output_type": "execute_result",
          "data": {
            "text/plain": [
              "[('farmers', 98),\n",
              " ('bill', 65),\n",
              " ('the', 56),\n",
              " ('to', 43),\n",
              " ('is', 33),\n",
              " ('of', 32),\n",
              " ('for', 31),\n",
              " ('punjab', 25),\n",
              " ('and', 25),\n",
              " ('releases', 22),\n",
              " ('haryana', 21),\n",
              " ('1million', 20),\n",
              " ('sfj', 18),\n",
              " ('in', 18),\n",
              " ('anti', 18)]"
            ]
          },
          "metadata": {
            "tags": []
          },
          "execution_count": 8
        }
      ]
    },
    {
      "cell_type": "code",
      "metadata": {
        "id": "-ryEcRDV9nbJ",
        "colab": {
          "base_uri": "https://localhost:8080/",
          "height": 204
        },
        "outputId": "6aee90d8-ca7d-4383-ba16-ed104d071a3c"
      },
      "source": [
        "clean_tweets_no_urls = pd.DataFrame(counts_no_urls.most_common(15),columns=['words', 'count'])\n",
        "clean_tweets_no_urls.head()"
      ],
      "execution_count": null,
      "outputs": [
        {
          "output_type": "execute_result",
          "data": {
            "text/html": [
              "<div>\n",
              "<style scoped>\n",
              "    .dataframe tbody tr th:only-of-type {\n",
              "        vertical-align: middle;\n",
              "    }\n",
              "\n",
              "    .dataframe tbody tr th {\n",
              "        vertical-align: top;\n",
              "    }\n",
              "\n",
              "    .dataframe thead th {\n",
              "        text-align: right;\n",
              "    }\n",
              "</style>\n",
              "<table border=\"1\" class=\"dataframe\">\n",
              "  <thead>\n",
              "    <tr style=\"text-align: right;\">\n",
              "      <th></th>\n",
              "      <th>words</th>\n",
              "      <th>count</th>\n",
              "    </tr>\n",
              "  </thead>\n",
              "  <tbody>\n",
              "    <tr>\n",
              "      <th>0</th>\n",
              "      <td>farmers</td>\n",
              "      <td>98</td>\n",
              "    </tr>\n",
              "    <tr>\n",
              "      <th>1</th>\n",
              "      <td>bill</td>\n",
              "      <td>65</td>\n",
              "    </tr>\n",
              "    <tr>\n",
              "      <th>2</th>\n",
              "      <td>the</td>\n",
              "      <td>56</td>\n",
              "    </tr>\n",
              "    <tr>\n",
              "      <th>3</th>\n",
              "      <td>to</td>\n",
              "      <td>43</td>\n",
              "    </tr>\n",
              "    <tr>\n",
              "      <th>4</th>\n",
              "      <td>is</td>\n",
              "      <td>33</td>\n",
              "    </tr>\n",
              "  </tbody>\n",
              "</table>\n",
              "</div>"
            ],
            "text/plain": [
              "     words  count\n",
              "0  farmers     98\n",
              "1     bill     65\n",
              "2      the     56\n",
              "3       to     43\n",
              "4       is     33"
            ]
          },
          "metadata": {
            "tags": []
          },
          "execution_count": 9
        }
      ]
    },
    {
      "cell_type": "code",
      "metadata": {
        "id": "90hQx8wd9soM",
        "colab": {
          "base_uri": "https://localhost:8080/",
          "height": 513
        },
        "outputId": "3ea61daa-fa67-460e-80c6-273d02e4e6b6"
      },
      "source": [
        "fig, ax = plt.subplots(figsize=(8, 8))\n",
        "clean_tweets_no_urls.sort_values(by='count').plot.barh(x='words',y='count',ax=ax,color=\"purple\")\n",
        "ax.set_title(\"Common Words Found in Tweets (Including All Words)\")\n",
        "plt.show()"
      ],
      "execution_count": null,
      "outputs": [
        {
          "output_type": "display_data",
          "data": {
            "image/png": "[encoded data removed]",
            "text/plain": [
              "<Figure size 576x576 with 1 Axes>"
            ]
          },
          "metadata": {
            "tags": [],
            "needs_background": "light"
          }
        }
      ]
    },
    {
      "cell_type": "code",
      "metadata": {
        "id": "6QSJqQxf92j0",
        "colab": {
          "base_uri": "https://localhost:8080/",
          "height": 68
        },
        "outputId": "ade0eb5a-3709-4afc-a6f9-30ff5074e54a"
      },
      "source": [
        "nltk.download('stopwords')"
      ],
      "execution_count": null,
      "outputs": [
        {
          "output_type": "stream",
          "text": [
            "[nltk_data] Downloading package stopwords to /root/nltk_data...\n",
            "[nltk_data]   Unzipping corpora/stopwords.zip.\n"
          ],
          "name": "stdout"
        },
        {
          "output_type": "execute_result",
          "data": {
            "text/plain": [
              "True"
            ]
          },
          "metadata": {
            "tags": []
          },
          "execution_count": 11
        }
      ]
    },
    {
      "cell_type": "code",
      "metadata": {
        "id": "iDvXiHrZ96xh",
        "colab": {
          "base_uri": "https://localhost:8080/",
          "height": 187
        },
        "outputId": "32093966-53ff-4b4f-addb-ff78a032a3a0"
      },
      "source": [
        "stop_words = set(stopwords.words('english'))\n",
        "list(stop_words)[0:10]"
      ],
      "execution_count": null,
      "outputs": [
        {
          "output_type": "execute_result",
          "data": {
            "text/plain": [
              "['an',\n",
              " 'weren',\n",
              " 'does',\n",
              " 'more',\n",
              " 'doesn',\n",
              " 'other',\n",
              " 'mustn',\n",
              " 'what',\n",
              " 'our',\n",
              " \"you'll\"]"
            ]
          },
          "metadata": {
            "tags": []
          },
          "execution_count": 13
        }
      ]
    },
    {
      "cell_type": "code",
      "metadata": {
        "id": "koE7XJ0i-S29",
        "colab": {
          "base_uri": "https://localhost:8080/",
          "height": 34
        },
        "outputId": "fd3041d3-dc55-4ebb-a340-6b252845c6c2"
      },
      "source": [
        "tweets_nsw = [[word for word in tweet_words if not word in stop_words]\n",
        "              for tweet_words in words_in_tweet]\n",
        "tweets_nsw[0]"
      ],
      "execution_count": null,
      "outputs": [
        {
          "output_type": "execute_result",
          "data": {
            "text/plain": [
              "['pmoindia', 'please', 'understand', 'small']"
            ]
          },
          "metadata": {
            "tags": []
          },
          "execution_count": 15
        }
      ]
    },
    {
      "cell_type": "code",
      "metadata": {
        "id": "HHpJPVUA-jFp",
        "colab": {
          "base_uri": "https://localhost:8080/",
          "height": 272
        },
        "outputId": "c5769b99-2334-4c9c-8d00-779c6ec0defb"
      },
      "source": [
        "all_words_nsw = list(itertools.chain(*tweets_nsw))\n",
        "counts_nsw = collections.Counter(all_words_nsw)\n",
        "counts_nsw.most_common(15)"
      ],
      "execution_count": null,
      "outputs": [
        {
          "output_type": "execute_result",
          "data": {
            "text/plain": [
              "[('farmers', 98),\n",
              " ('bill', 65),\n",
              " ('punjab', 25),\n",
              " ('releases', 22),\n",
              " ('haryana', 21),\n",
              " ('1million', 20),\n",
              " ('sfj', 18),\n",
              " ('anti', 18),\n",
              " ('farmer', 14),\n",
              " ('amp', 12),\n",
              " ('indian', 9),\n",
              " ('protest', 8),\n",
              " ('india', 8),\n",
              " ('khalistan', 8),\n",
              " ('farm', 8)]"
            ]
          },
          "metadata": {
            "tags": []
          },
          "execution_count": 16
        }
      ]
    },
    {
      "cell_type": "code",
      "metadata": {
        "id": "_5jDITAr-rzv",
        "colab": {
          "base_uri": "https://localhost:8080/",
          "height": 513
        },
        "outputId": "6cb3b033-3b7d-4f08-849d-da550ddc73c2"
      },
      "source": [
        "clean_tweets_nsw = pd.DataFrame(counts_nsw.most_common(15),columns=['words', 'count'])\n",
        "fig, ax = plt.subplots(figsize=(8, 8))\n",
        "clean_tweets_nsw.sort_values(by='count').plot.barh(x='words',y='count',ax=ax,color=\"purple\")\n",
        "ax.set_title(\"Common Words Found in Tweets\")\n",
        "plt.show()"
      ],
      "execution_count": null,
      "outputs": [
        {
          "output_type": "display_data",
          "data": {
            "image/png": "[encoded data removed]",
            "text/plain": [
              "<Figure size 576x576 with 1 Axes>"
            ]
          },
          "metadata": {
            "tags": [],
            "needs_background": "light"
          }
        }
      ]
    },
    {
      "cell_type": "code",
      "metadata": {
        "id": "QKlVWMJJ-6KC"
      },
      "source": [
        ""
      ],
      "execution_count": null,
      "outputs": []
    }
  ]
}